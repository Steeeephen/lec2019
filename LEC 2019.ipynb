{
 "cells": [
  {
   "cell_type": "code",
   "execution_count": null,
   "metadata": {
    "_kg_hide-input": true
   },
   "outputs": [],
   "source": [
    "import requests\n",
    "import csv\n",
    "import lxml.html as lh\n",
    "import pandas as pd\n",
    "import numpy as np\n",
    "import matplotlib.pyplot as plt\n",
    "import seaborn as sns\n",
    "import chart_studio.plotly as py\n",
    "import plotly.express as px\n",
    "import plotly.graph_objs as go\n",
    "import warnings\n",
    "import matplotlib.pyplot as plt\n",
    "import matplotlib.image as mpimg\n",
    "\n",
    "\n",
    "warnings.filterwarnings('ignore')\n",
    "pd.set_option('display.max_rows',None)\n",
    "\n",
    "fig_size = plt.rcParams[\"figure.figsize\"]\n",
    "fig_size[0] = 15\n",
    "fig_size[1] = 12\n",
    "plt.rcParams[\"figure.figsize\"] = fig_size\n",
    "\n",
    "from IPython.display import Image\n",
    "from IPython.display import HTML\n",
    "from collections import Counter\n",
    "\n",
    "import os\n",
    "for dirname, _, filenames in os.walk('/kaggle/input'):\n",
    "    for filename in filenames:\n",
    "        print(os.path.join(dirname, filename))\n",
    "\n"
   ]
  },
  {
   "cell_type": "code",
   "execution_count": null,
   "metadata": {
    "_kg_hide-input": true
   },
   "outputs": [],
   "source": [
    "teams = {'G2 Esports':'black',\n",
    "         'Fnatic':'orange',\n",
    "         'Splyce':'red',\n",
    "         'FC Schalke 04':'cyan',\n",
    "         'Origen':'blue',\n",
    "         'Team Vitality':'yellow',\n",
    "         'Misfits Gaming':'red',\n",
    "         'SK Gaming':'black',\n",
    "         'Rogue':'blue',\n",
    "         'Excel Esports':'navy'}\n",
    "switcher = {\n",
    "    \"G2 Esports\": \"G2\",\n",
    "    \"Team Vitality\": \"VIT\",\n",
    "    \"Rogue\": \"RGE\",\n",
    "    \"Fnatic\": \"FNC\",\n",
    "    \"FC Schalke 04\": \"S04\",\n",
    "    \"SK Gaming\": \"SK\",\n",
    "    \"Excel Esports\": \"XL\",\n",
    "    \"Misfits Gaming\": \"MSF\",\n",
    "    \"Origen\": \"OG\",\n",
    "    \"Splyce\": \"SPY\",\n",
    "}\n",
    "def swap(x):\n",
    "    temp = x['Team1']\n",
    "    x['Team1'] = x['Team2']\n",
    "    x['Team2'] = temp\n",
    "    x['Result'] = (False if (x['Result']) else True)\n",
    "    return(x)\n",
    "\n",
    "def swaps(x):\n",
    "    df.loc[x] = swap(df.loc[x])\n"
   ]
  },
  {
   "cell_type": "code",
   "execution_count": null,
   "metadata": {
    "_kg_hide-input": true
   },
   "outputs": [],
   "source": [
    "df = pd.read_csv(\"lec_matchdata.csv\")\n",
    "df2 = pd.read_csv(\"lec_playerdata.csv\")\n",
    "df3 = pd.read_csv(\"lec_championdata.csv\")"
   ]
  },
  {
   "cell_type": "markdown",
   "metadata": {},
   "source": [
    "# The League of Legends European Championship (LEC)\n",
    "\n",
    "***\n",
    "## Introduction\n",
    "\n",
    "2019 was a landmark year for the League of Legends Europeans Championship; Franchising was introduced which brought a multitude of new and old teams into the league. G2 Esports took home Europe's first major trophy since before the arrival of Chinese/Korean teams to the scene. Three fully-European teams were sent to the World Championship and all three made it out of groups for the first time in the league's history. G2 Esports were well beaten at the final hurdle, but the year was nonetheless a raging success. In this notebook I aim to give a brief overview of the year to help others understand the data"
   ]
  },
  {
   "cell_type": "markdown",
   "metadata": {},
   "source": [
    "***\n",
    "## League Format\n",
    "\n",
    "The year is split into two 'splits', Spring & Summer, with a major international tournament after both. Each split starts with the *Regular Season*, a double best-of-1 round robin, meaning each team plays all other teams twice. The top 6 teams in the regular season go through to the *Playoffs*, where teams match up in best-of-5 series in a hybrid single- & double-elimination format. \n",
    "\n",
    "The winner of the Spring split plays against the rest of the international league winners at the *Mid-Season Invitational* while the winner of Summer goes to the *World Championship*, the most prestigious tournament in the entire scene. Each team gains *circuit* points based on their playoff placings throughout the year and the team with the most points accompanies the Summer split winner to worlds. The 3 next best teams play in the *Gauntlet* for the final spot at Worlds"
   ]
  },
  {
   "cell_type": "markdown",
   "metadata": {},
   "source": [
    "***\n",
    "## Side Selection\n",
    "\n",
    "Every League game has two sides, 'Red' and 'Blue' (left and right sides of the map). Blue side gets to pick the first champion but red gets to pick the last and both sides have different positional advantages due to the layout of the map. Each team chooses their side in half of their games, while the opponent chooses in the other half"
   ]
  },
  {
   "cell_type": "code",
   "execution_count": null,
   "metadata": {
    "_kg_hide-input": true,
    "scrolled": false
   },
   "outputs": [],
   "source": [
    "sums = df[['Sel','Choice']].groupby('Sel').sum()\n",
    "totals = df['Sel'].value_counts().sort_index()\n",
    "winrate_totals=[sums.iloc[i]/totals[i] for i in range(10)]\n",
    "bardata = pd.concat(winrate_totals,axis = 1,keys = [s.name for s in winrate_totals])\n",
    "\n",
    "px.bar(bardata, x=bardata.columns, y=[bardata.values[0][i] for i in range(10)])\n",
    "\n",
    "fig = go.Figure(data=[\n",
    "    go.Bar(name='Blue Side', \n",
    "           x=bardata.columns, \n",
    "           y=[bardata.values[0][i] for i in range(10)],\n",
    "           marker_color = \"#1d0efd\",\n",
    "           textposition=\"auto\",\n",
    "           text=[\"%s%%\" % round(100*bardata.values[0][i],1) for i in range(10)]),\n",
    "\n",
    "    \n",
    "    go.Bar(name='Red Side', \n",
    "           x=bardata.columns, \n",
    "           y=[1-bardata.values[0][i] for i in range(10)],\n",
    "           marker_color = \"#fd0e35\")\n",
    "])\n",
    "fig.update_yaxes(showticklabels=False)\n",
    "fig.update_layout(\n",
    "    barmode='stack',\n",
    "    title = \"Side Selection for Each Team: Regular Season\",\n",
    "    font=dict(\n",
    "        family=\"Calibri, monospace\",\n",
    "        size=16,\n",
    "        color=\"#7f7f7f\")\n",
    "                 )\n",
    "fig.show()"
   ]
  },
  {
   "cell_type": "markdown",
   "metadata": {},
   "source": [
    "As we can see, most teams strongly prefer to pick blue side. Though Team Vitality do go against that trend."
   ]
  },
  {
   "cell_type": "markdown",
   "metadata": {},
   "source": [
    "***\n",
    "## Casters\n",
    "\n",
    "One of the most important aspects of the broadcast is the casters. Most games will pair a 'Play-by-play' commentator with a 'Colour' commentator (Commentary v Analysis). Every now and again, however, we will get a tri-cast with two colour casters to provide more analysis during the game. The treemap below shows the different combinations we had during the regular season. (Casters go by pseudonyms, similar to the players)"
   ]
  },
  {
   "cell_type": "code",
   "execution_count": null,
   "metadata": {
    "_kg_hide-input": true
   },
   "outputs": [],
   "source": [
    "def scores(team):\n",
    "    for i in (df[df['Team2'] == team].index):\n",
    "        swaps(i)\n",
    "    team_results = df[df['Team1'] == team].append(df[df['Team2'] == team]).sort_values('UTC')\n",
    "    score = team_results.groupby('Team1').cumsum().set_index(team_results['UTC'])\n",
    "    return(score)"
   ]
  },
  {
   "cell_type": "code",
   "execution_count": null,
   "metadata": {
    "_kg_hide-input": true,
    "scrolled": true
   },
   "outputs": [],
   "source": [
    "casters=df[['Team1','Team2','PBP','Color']]\n",
    "casters['Combo'] = casters['PBP'] + \" + \" + casters['Color']\n",
    "caster_combos = casters.groupby('Combo').count()\n",
    "test = casters.sort_values('Combo')['Combo'].drop_duplicates()\n",
    "parents = [\"\",\"\"]\n",
    "for i in test:\n",
    "    if(\",\" in i):\n",
    "        parents.append(\"Tri Cast\")\n",
    "    else:\n",
    "        parents.append(\"Duo Cast\")\n",
    "labels_src = casters.sort_values(\"Combo\")['Combo'].drop_duplicates()\n",
    "labels = [\"Tri Cast\",\"Duo Cast\"]\n",
    "for label in labels_src:\n",
    "    labels.append(label)\n",
    "\n",
    "values = [0,0]\n",
    "for value in caster_combos['Team1']:\n",
    "    values.append(value)\n",
    "    \n",
    "fig = go.Figure(go.Treemap(nams=labels,\n",
    "                           parents = parents,\n",
    "                           values = values))\n",
    "fig.update_layout(title=\"Caster Combo Distribution: Regular Season\")\n",
    "fig.show()"
   ]
  },
  {
   "cell_type": "markdown",
   "metadata": {},
   "source": [
    "Interestingly, there doesn't seem to be a fully even distribution in terms of how many times each caster casts a certain team. Clicking on each caster's name here will show how many games they casted per team. For example, Quickshot only casted games involving Origen 4 times. Note that hovering over their names will show the total amount of regular season games they casted multiplied by 2, so halve the given number to get their personal total of games"
   ]
  },
  {
   "cell_type": "code",
   "execution_count": null,
   "metadata": {
    "_kg_hide-input": true,
    "scrolled": true
   },
   "outputs": [],
   "source": [
    "def casters_treemap(caster_type):\n",
    "    pbp = pd.DataFrame([i for i in casters[caster_type].drop_duplicates() if ',' not in i],columns=[caster_type])\n",
    "    pbp = pbp.rename(index=pbp[caster_type])\n",
    "    pbp = pbp.drop(caster_type,axis=1)\n",
    "\n",
    "\n",
    "    for team in teams:\n",
    "        pbp[team] = 0\n",
    "    for i in range(len(casters)):\n",
    "        ind = casters.iloc[i]\n",
    "        pbp_index = ind[caster_type].replace(\" \",\"\").split(\",\")\n",
    "        for caster in pbp_index:    \n",
    "            pbp.loc[caster,ind['Team1']] += 1\n",
    "            pbp.loc[caster,ind['Team2']] += 1\n",
    "\n",
    "    biglist = [len(pbp)*['o'],[10*[i] for i in list(pbp.index)]]\n",
    "    parents = [val for sublist in biglist for val in sublist]\n",
    "    parents = [val for sublist in parents for val in sublist]\n",
    "    for i in range(len(pbp)):\n",
    "        parents[i] = \"\"\n",
    "\n",
    "    values = pbp.sum(axis=1)\n",
    "    for i in list(pbp.index):\n",
    "        values = values.append(pbp.loc[i])\n",
    "\n",
    "    fig = go.Figure()\n",
    "\n",
    "    fig = fig.add_trace(go.Treemap(\n",
    "        labels = pbp.index.append(len(pbp)*[pbp.columns]),\n",
    "        parents = parents,\n",
    "        values = values,\n",
    "        branchvalues= 'total'\n",
    "    ))\n",
    "    fig.update_layout(title='%s Team Distribution (Regular Season)' % caster_type)\n",
    "    fig.show()\n",
    "    \n",
    "for i in ['PBP','Color']:\n",
    "    casters_treemap(i)"
   ]
  },
  {
   "cell_type": "code",
   "execution_count": null,
   "metadata": {
    "_kg_hide-input": true
   },
   "outputs": [],
   "source": [
    "df = df.drop([90,181]) #dropping tiebreakers"
   ]
  },
  {
   "cell_type": "markdown",
   "metadata": {},
   "source": [
    "***\n",
    "## MVPs\n",
    "\n",
    "Each regular season game gets an MVP (Most Valuable Player) who is voted in by the fans."
   ]
  },
  {
   "cell_type": "code",
   "execution_count": null,
   "metadata": {
    "_kg_hide-input": true
   },
   "outputs": [],
   "source": [
    "mvps = df.groupby('MVP').count().sort_values('Team1',ascending = False)\n",
    "\n",
    "fig = go.Figure()\n",
    "fig.add_trace(go.Bar(y=mvps.index[range(5)][::-1], \n",
    "                     x=mvps['Team1'].head()[::-1],\n",
    "                     orientation='h',\n",
    "                    marker_color = \"purple\"))\n",
    "fig.update_layout(title_text = 'Total MVP awards')\n",
    "fig.show()"
   ]
  },
  {
   "cell_type": "markdown",
   "metadata": {},
   "source": [
    "***\n",
    "## Regular Season Wins\n",
    "\n",
    "Next I wanted to see how consistent the teams were in the round robins. "
   ]
  },
  {
   "cell_type": "code",
   "execution_count": null,
   "metadata": {
    "_kg_hide-input": true
   },
   "outputs": [],
   "source": [
    "df = df.drop(\"Unnamed: 0\",axis = 1)\n",
    "test = pd.DataFrame(columns = teams,index= df['UTC'])\n",
    "for x in teams:\n",
    "    test[x] = scores(x)['Result']\n",
    "test = test.sort_values('UTC').drop_duplicates()"
   ]
  },
  {
   "cell_type": "code",
   "execution_count": null,
   "metadata": {
    "_kg_hide-input": true,
    "scrolled": true
   },
   "outputs": [],
   "source": [
    "fig = go.Figure(layout=go.Layout(\n",
    "        title=go.layout.Title(text=\"Cumulative Wins: Regular Season Games\")\n",
    "    ))\n",
    "def plotcumwins(x):\n",
    "    fig.add_trace(go.Scatter(x=list(range(1,len(test[x])+1)),\n",
    "                               y=test[x],\n",
    "                               name = x,\n",
    "                               line = dict(color=teams[x])))\n",
    "for i in teams:\n",
    "    plotcumwins(i)\n",
    "fig.add_shape(go.layout.Shape(type=\"line\",x0=18,y0=0,x1=18,y1=30,line=dict(\n",
    "                color=\"RoyalBlue\",\n",
    "                width=1\n",
    "            )))\n",
    "fig.update_xaxes(title_text='Gameday',range=[0,36])\n",
    "fig.update_yaxes(title_text='Total Number of Wins')\n",
    "fig"
   ]
  },
  {
   "cell_type": "markdown",
   "metadata": {},
   "source": [
    "Some interesting things to note from this include G2's sheer dominance (Which was mirrored in their playoff dominance) and the tussle that occured between Fnatic, Splyce, Schalke and OG throughout the year for the 2nd spot. Rogue's absymal spring season meant that even a Summer split resurgence and an eventual 4th place finish couldn't save them from being 10th place overall"
   ]
  },
  {
   "cell_type": "markdown",
   "metadata": {},
   "source": [
    "***\n",
    "## Player Nationalities\n",
    "\n",
    "One thing that LEC fans are generally very proud of is the local talent that Europe produces. All 15 players sent to the World Championship this year were European, while 14/15 of the players sent last year were EU players. This season boasted a wide range of nationalities, with 22 European countries represented along with Korea."
   ]
  },
  {
   "cell_type": "code",
   "execution_count": null,
   "metadata": {
    "_kg_hide-input": true
   },
   "outputs": [],
   "source": [
    "tops = df2[df2['Pos'] == \"TOP\"]\n",
    "jgls = df2[df2['Pos'] == \"Jungle\"]\n",
    "mids = df2[df2['Pos'] == \"Middle\"]\n",
    "adcs = df2[df2['Pos'] == \"ADC\"]\n",
    "sups = df2[df2['Pos'] == \"Support\"]"
   ]
  },
  {
   "cell_type": "code",
   "execution_count": null,
   "metadata": {},
   "outputs": [],
   "source": [
    "\n",
    "img=mpimg.imread('/kaggle/input/lecnationalities/nationalities.png')\n",
    "imgplot = plt.imshow(img)\n"
   ]
  },
  {
   "cell_type": "markdown",
   "metadata": {},
   "source": [
    "As we can see, the Nordic and East region is responsible for a large amount of the players. That said, most of the Western countries and a large amount of Eastern countries have representation. It's worth noting that Korea clocks in at 10 players, higher than any single European country."
   ]
  },
  {
   "cell_type": "markdown",
   "metadata": {},
   "source": [
    "***\n",
    "## Player Experience\n",
    "\n",
    "Another thing that the league prides itself on is the integration of rookie players, players who haven't played professionally before. The European League scene has a thriving set of second division leagues and the majority of orgs are comfortable giving chances to unproven talent"
   ]
  },
  {
   "cell_type": "code",
   "execution_count": null,
   "metadata": {
    "_kg_hide-input": true,
    "scrolled": true
   },
   "outputs": [],
   "source": [
    "years = [0,2,1,2,1,4,1,2,0,1,2,3,4,0,6,2,2,0,4,4,1,5,0,1,5,8,3,4,3,3,3,6,3,0,0,1,6,4,0,1,3,3,2,4,7,0,0,3,8,0,1,5,4,2,4,3,2,0,0,2,4,0,0,3,0,0,0,4,1,0,4,5,0]\n",
    "x = Counter(years)\n",
    "\n",
    "fig = go.Figure(go.Pie(labels=[\"%s yr\" % i for i in sorted(x.keys())],values=[x[i] for i in sorted(x.keys())],sort=False))\n",
    "fig.update_layout(title_text=\"Years since Major Region Debut\")\n",
    "fig.show()"
   ]
  },
  {
   "cell_type": "markdown",
   "metadata": {},
   "source": [
    "As we can see, fewer than half of the league's players in 2019 had their debut before 2017. Additionally, over a quarter of all players had no experience in major regions before featuring this year. With 10 new rookies already announced for the 2020 season, the future is looking up for the LEC."
   ]
  },
  {
   "cell_type": "code",
   "execution_count": null,
   "metadata": {
    "_kg_hide-input": true
   },
   "outputs": [],
   "source": [
    "x = df2[['Player','Split']].groupby('Split').count().iloc[[2,4]]\n",
    "fig = go.Figure(go.Bar(x = x.index, \n",
    "                       y = list(x['Player']),\n",
    "                      marker_color = \"#6baed6\"))\n",
    "\n",
    "fig.update_layout(title_text = \"Number of Players per Split\")\n",
    "fig.update_yaxes(title_text=\"Number of Players\")\n",
    "\n",
    "fig.show()"
   ]
  },
  {
   "cell_type": "markdown",
   "metadata": {},
   "source": [
    "***\n",
    "## AD Carries\n",
    "\n",
    "ADCs tend to be fed the most amount of gold throughout the game and are responsible for a large chunk of the teamfight damage. I wanted to explore how efficiently ADCs used the gold share they were given. The graph below shows how much of their team's damage they did compared to how much of the team's gold they got. Ideally you want your adc to deal as much damage as possible."
   ]
  },
  {
   "cell_type": "code",
   "execution_count": null,
   "metadata": {
    "_kg_hide-input": true,
    "scrolled": true
   },
   "outputs": [],
   "source": [
    "fig = px.scatter(x=adcs['Gold%'],\n",
    "                 y=adcs['DMG%'],\n",
    "                 color=adcs['Split'],\n",
    "                 hover_name=adcs['Player'])\n",
    "fig.update_xaxes(title_text=\"Gold%\",range=[35,15])\n",
    "fig.update_yaxes(title_text=\"Damage%\")\n",
    "fig.update_layout(title_text=\"ADC Gold Efficiency\")\n",
    "fig.show()"
   ]
  },
  {
   "cell_type": "markdown",
   "metadata": {},
   "source": [
    "***\n",
    "## Midlaners\n",
    "\n",
    "Midlaners are arguably the most important role in the modern game. They control the central lane of the map, meaning the game tends to flow through them. Having pressure in the midlane allows your team more freedom of movement while midlaners roaming can dictate a large part of the early game. I wanted to see how dominant certain midlaners are in the laning phase by looking at their average XP (experience) and CS (creep score, neutral minions killed) differential over their counterpart. A player who plays a strong lane or low roaming style will generally have high differentials"
   ]
  },
  {
   "cell_type": "code",
   "execution_count": null,
   "metadata": {
    "_kg_hide-input": true
   },
   "outputs": [],
   "source": [
    "fig = px.scatter(y=mids['GD10'],\n",
    "                 x = mids['XPD10'],\n",
    "                hover_name = mids['Player'],\n",
    "                color = mids['Split'])\n",
    "\n",
    "fig.update_xaxes(title_text=\"XP Difference at 10\")\n",
    "fig.update_yaxes(title_text=\"Gold Difference at 10\")\n",
    "fig.update_layout(title_text=\" Midlaner Laning Dominance\")\n",
    "fig.show()"
   ]
  },
  {
   "cell_type": "markdown",
   "metadata": {},
   "source": [
    "***\n",
    "## Supports\n",
    "\n",
    "Supports are the utility members of the team. They take no gold and are usually responsible for engaging/vision control. Vision has been a key part of the meta since the game began and supports have always been at the heart of it. Vision gives information, information wins games. Here we look at how much vision control supports have by looking at their average number of wards placed every minute versus the average number of enemy wards destroyed every minute. "
   ]
  },
  {
   "cell_type": "code",
   "execution_count": null,
   "metadata": {
    "_kg_hide-input": true,
    "scrolled": true
   },
   "outputs": [],
   "source": [
    "fig = px.scatter(x=sups['WPM'],\n",
    "                 y=sups['WCPM'],\n",
    "                 color=sups['Split'],\n",
    "                 hover_name=sups['Player'])\n",
    "fig.update_xaxes(title_text=\"Wards Placed Per Minute\")\n",
    "fig.update_yaxes(title_text=\"Wards Cleared Per Minute\")\n",
    "fig.update_layout(title_text=\"Support Vision Control\")\n",
    "fig.show()"
   ]
  },
  {
   "cell_type": "code",
   "execution_count": null,
   "metadata": {
    "_kg_hide-input": true
   },
   "outputs": [],
   "source": [
    "time_splits = df3.columns[[15,18,21,24,27,30]]\n",
    "times = pd.DataFrame(index = time_splits, columns = [\"Spring\",\"Summer\"])\n",
    "grouped_df3 = df3.groupby('Split').sum()\n",
    "for i in time_splits:\n",
    "    times['Spring'][i] = (grouped_df3[i][0] / 10) / 107\n",
    "    times['Summer'][i] = (grouped_df3[i][1] / 10) / 114\n",
    "\n",
    "times.columns\n",
    "time_splits = [i.replace(\"games\",\"minutes\") for i in time_splits] "
   ]
  },
  {
   "cell_type": "markdown",
   "metadata": {},
   "source": [
    "***\n",
    "## Game Time\n",
    "\n",
    "This year has been described as having one of the fastest metas in history. Teams were constantly winning games before 30 minutes, a far cry from the snoozefest of 5 years ago"
   ]
  },
  {
   "cell_type": "code",
   "execution_count": null,
   "metadata": {
    "_kg_hide-input": true
   },
   "outputs": [],
   "source": [
    "fig = go.Figure(data=[\n",
    "    go.Bar(name='Spring', x=time_splits, y=times['Spring']),\n",
    "    go.Bar(name='Summer', x=time_splits, y=times['Summer'])\n",
    "])\n",
    "fig.update_layout(title_text = \"Game Length: Spring v Summer Split\")\n",
    "fig.update_yaxes(title_text = \"Percentage of Games\")\n",
    "fig.show()"
   ]
  },
  {
   "cell_type": "markdown",
   "metadata": {},
   "source": [
    "As we can see, the majority of games were finished before the 35 minute mark, while there were fewer games longer than 40 minutes in the Summer split. It seems that teams improved heavily on quickly closing out games in the second half of the year"
   ]
  },
  {
   "cell_type": "code",
   "execution_count": null,
   "metadata": {
    "_kg_hide-input": true
   },
   "outputs": [],
   "source": [
    "champs = df3[['Champion 1','∑ 2','W 3','L 4']].groupby('Champion 1').sum().sort_values(\"∑ 2\",ascending = False)\n",
    "x = df3[['W 3','Split']].groupby('Split').count()\n",
    "\n",
    "fig = go.Figure(go.Bar(x = x.index, \n",
    "                       y = list(x['W 3']),\n",
    "                      marker_color = \"#f768a1\"))\n",
    "\n",
    "fig.update_layout(title_text = \"Number of Unique Champions per Split\")\n",
    "fig.update_yaxes(title_text=\"Number of Champions\")\n",
    "\n",
    "fig.show()"
   ]
  },
  {
   "cell_type": "markdown",
   "metadata": {},
   "source": [
    "***\n",
    "## Champions\n",
    "\n",
    "Champions are one of the most important part of the game, each player gets to choose one character with unique abilities to play the game as. Here we explore some of the basic graphs about these champions"
   ]
  },
  {
   "cell_type": "code",
   "execution_count": null,
   "metadata": {
    "_kg_hide-input": true,
    "scrolled": false
   },
   "outputs": [],
   "source": [
    "fig = go.Figure(data=[\n",
    "    go.Bar(name='Wins', \n",
    "           x=champs.index[range(10)], \n",
    "           y=champs['W 3'],\n",
    "           marker_color = \"#1c9099\",\n",
    "           textposition=\"auto\"),\n",
    "\n",
    "    \n",
    "    go.Bar(name='Losses', \n",
    "           x=champs.index[range(10)], \n",
    "           y=champs['L 4'],\n",
    "           marker_color = \"#a6bddb\",\n",
    "           textposition = \"auto\",\n",
    "            text = champs['∑ 2']),\n",
    "          \n",
    "])\n",
    "fig.update_yaxes(title_text = \"Number of Games\")\n",
    "fig.update_layout(\n",
    "    barmode='stack',\n",
    "    title = \"Most Picked Champions: Spring & Summer Split\",\n",
    "    font=dict(\n",
    "        family=\"Calibri, monospace\",\n",
    "        size=16,\n",
    "        color=\"#7f7f7f\")\n",
    "                 )\n",
    "fig.show()"
   ]
  },
  {
   "cell_type": "code",
   "execution_count": null,
   "metadata": {
    "_kg_hide-input": true
   },
   "outputs": [],
   "source": [
    "champs['WR'] = champs['W 3'] / champs['∑ 2']\n",
    "champs = champs[champs['∑ 2'] > 10].sort_values('WR',ascending = False)\n",
    "\n",
    "fig = go.Figure(data=[\n",
    "    go.Bar(name='Winrate', \n",
    "           x=champs.index[range(10)], \n",
    "           y=champs['WR'],\n",
    "           marker_color = \"#fec44f\",\n",
    "           textposition=\"auto\",\n",
    "          text=[\"%s%%\" % round(100*champs['WR'].iloc[i],1) for i in range(10)]),\n",
    "])\n",
    "fig.update_yaxes(title_text = \"Win Percentage\")\n",
    "fig.update_layout(\n",
    "    barmode='stack',\n",
    "    title = \"Highest Winrate Champions: Spring & Summer Split (Min 10 Games)\",\n",
    "    font=dict(\n",
    "        family=\"Calibri, monospace\",\n",
    "        size=16,\n",
    "        color=\"#7f7f7f\")\n",
    "                 )\n",
    "fig.show()"
   ]
  },
  {
   "cell_type": "code",
   "execution_count": null,
   "metadata": {
    "_kg_hide-input": true,
    "scrolled": true
   },
   "outputs": [],
   "source": [
    "champs = champs[champs['∑ 2'] > 10].sort_values('WR')\n",
    "fig = go.Figure(data=[\n",
    "    go.Bar(name='Winrate', \n",
    "           x=champs.index[range(10)], \n",
    "           y=champs['WR'],\n",
    "           marker_color = \"#78c679\",\n",
    "           textposition=\"auto\",\n",
    "          text=[\"%s%%\" % round(100*champs['WR'].iloc[i],1) for i in range(10)]),\n",
    "])\n",
    "fig.update_yaxes(title_text = \"Win Percentage\")\n",
    "fig.update_layout(\n",
    "    barmode='stack',\n",
    "    title = \"Lowest Winrate Champions: Spring & Summer Split (Min 10 Games)\",\n",
    "    font=dict(\n",
    "        family=\"Calibri, monospace\",\n",
    "        size=16,\n",
    "        color=\"#7f7f7f\")\n",
    "                 )\n",
    "fig.show()"
   ]
  },
  {
   "cell_type": "markdown",
   "metadata": {},
   "source": [
    "Finally, the most important stat. Often-ridiculed Support player 'PromisQ' picked up his first ever tournament win as G2's substitute support. He now owns more LEC medals than Fnatic, the most famous and successful team in Europe"
   ]
  },
  {
   "cell_type": "code",
   "execution_count": null,
   "metadata": {
    "_kg_hide-input": true
   },
   "outputs": [],
   "source": [
    "fig = go.Figure(go.Bar(x=[\"Fnatic\",\"Promisq\"],y=[0,2],marker_color=\"grey\"))\n",
    "fig.update_layout(title_text=\"Number of LEC Medals\")\n",
    "fig.show()"
   ]
  }
 ],
 "metadata": {
  "kernelspec": {
   "display_name": "Python 3",
   "language": "python",
   "name": "python3"
  },
  "language_info": {
   "codemirror_mode": {
    "name": "ipython",
    "version": 3
   },
   "file_extension": ".py",
   "mimetype": "text/x-python",
   "name": "python",
   "nbconvert_exporter": "python",
   "pygments_lexer": "ipython3",
   "version": "3.6.9"
  }
 },
 "nbformat": 4,
 "nbformat_minor": 1
}
