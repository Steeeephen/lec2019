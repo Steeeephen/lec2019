{
 "cells": [
  {
   "cell_type": "code",
   "execution_count": 1,
   "metadata": {},
   "outputs": [],
   "source": [
    "import requests\n",
    "import csv\n",
    "import lxml.html as lh\n",
    "import pandas as pd\n",
    "import numpy as np\n",
    "import matplotlib.pyplot as plt\n",
    "import seaborn as sns\n",
    "import chart_studio.plotly as py\n",
    "import plotly.express as px\n",
    "import plotly.graph_objs as go\n",
    "import warnings\n",
    "\n",
    "warnings.filterwarnings('ignore')\n",
    "pd.set_option('display.max_rows',None)\n",
    "\n",
    "from IPython.display import Image\n",
    "from IPython.display import HTML\n",
    "from collections import Counter\n"
   ]
  },
  {
   "cell_type": "code",
   "execution_count": 2,
   "metadata": {
    "scrolled": true
   },
   "outputs": [
    {
     "data": {
      "text/html": [
       "<script>\n",
       "code_show=true; \n",
       "function code_toggle() {\n",
       " if (code_show){\n",
       " $('div.input').hide();\n",
       " } else {\n",
       " $('div.input').show();\n",
       " }\n",
       " code_show = !code_show\n",
       "} \n",
       "$( document ).ready(code_toggle);\n",
       "</script>\n",
       "The raw code for this IPython notebook is by default hidden for easier reading.\n",
       "To toggle on/off the raw code, click <a href=\"javascript:code_toggle()\">here</a>."
      ],
      "text/plain": [
       "<IPython.core.display.HTML object>"
      ]
     },
     "execution_count": 2,
     "metadata": {},
     "output_type": "execute_result"
    }
   ],
   "source": [
    "HTML('''<script>\n",
    "code_show=true; \n",
    "function code_toggle() {\n",
    " if (code_show){\n",
    " $('div.input').hide();\n",
    " } else {\n",
    " $('div.input').show();\n",
    " }\n",
    " code_show = !code_show\n",
    "} \n",
    "$( document ).ready(code_toggle);\n",
    "</script>\n",
    "The raw code for this IPython notebook is by default hidden for easier reading.\n",
    "To toggle on/off the raw code, click <a href=\"javascript:code_toggle()\">here</a>.''')"
   ]
  },
  {
   "cell_type": "code",
   "execution_count": 3,
   "metadata": {},
   "outputs": [
    {
     "data": {
      "application/javascript": [
       "IPython.OutputArea.prototype._should_scroll = function(lines) {\n",
       "    return false;\n",
       "}\n"
      ],
      "text/plain": [
       "<IPython.core.display.Javascript object>"
      ]
     },
     "metadata": {},
     "output_type": "display_data"
    }
   ],
   "source": [
    "%%javascript\n",
    "IPython.OutputArea.prototype._should_scroll = function(lines) {\n",
    "    return false;\n",
    "}"
   ]
  },
  {
   "cell_type": "code",
   "execution_count": 4,
   "metadata": {},
   "outputs": [],
   "source": [
    "teams = {'G2 Esports':'black',\n",
    "         'Fnatic':'orange',\n",
    "         'Splyce':'red',\n",
    "         'FC Schalke 04':'cyan',\n",
    "         'Origen':'blue',\n",
    "         'Team Vitality':'yellow',\n",
    "         'Misfits Gaming':'red',\n",
    "         'SK Gaming':'black',\n",
    "         'Rogue':'blue',\n",
    "         'Excel Esports':'navy'}\n",
    "switcher = {\n",
    "    \"G2 Esports\": \"G2\",\n",
    "    \"Team Vitality\": \"VIT\",\n",
    "    \"Rogue\": \"RGE\",\n",
    "    \"Fnatic\": \"FNC\",\n",
    "    \"FC Schalke 04\": \"S04\",\n",
    "    \"SK Gaming\": \"SK\",\n",
    "    \"Excel Esports\": \"XL\",\n",
    "    \"Misfits Gaming\": \"MSF\",\n",
    "    \"Origen\": \"OG\",\n",
    "    \"Splyce\": \"SPY\",\n",
    "}"
   ]
  },
  {
   "cell_type": "code",
   "execution_count": 5,
   "metadata": {},
   "outputs": [
    {
     "ename": "IndexError",
     "evalue": "list index out of range",
     "output_type": "error",
     "traceback": [
      "\u001b[0;31m---------------------------------------------------------------------------\u001b[0m",
      "\u001b[0;31mIndexError\u001b[0m                                Traceback (most recent call last)",
      "\u001b[0;32m<ipython-input-5-5cc29ff1328f>\u001b[0m in \u001b[0;36m<module>\u001b[0;34m\u001b[0m\n\u001b[1;32m     20\u001b[0m \u001b[0;34m\u001b[0m\u001b[0m\n\u001b[1;32m     21\u001b[0m \u001b[0;32mfor\u001b[0m \u001b[0murl\u001b[0m \u001b[0;32min\u001b[0m \u001b[0murls\u001b[0m\u001b[0;34m:\u001b[0m\u001b[0;34m\u001b[0m\u001b[0;34m\u001b[0m\u001b[0m\n\u001b[0;32m---> 22\u001b[0;31m     \u001b[0mscrape\u001b[0m\u001b[0;34m(\u001b[0m\u001b[0murl\u001b[0m\u001b[0;34m)\u001b[0m\u001b[0;34m\u001b[0m\u001b[0;34m\u001b[0m\u001b[0m\n\u001b[0m\u001b[1;32m     23\u001b[0m \u001b[0;34m\u001b[0m\u001b[0m\n\u001b[1;32m     24\u001b[0m \u001b[0mdict2\u001b[0m \u001b[0;34m=\u001b[0m \u001b[0;34m{\u001b[0m\u001b[0mhead\u001b[0m\u001b[0;34m:\u001b[0m\u001b[0mcolumn\u001b[0m \u001b[0;32mfor\u001b[0m \u001b[0;34m(\u001b[0m\u001b[0mhead\u001b[0m\u001b[0;34m,\u001b[0m\u001b[0mcolumn\u001b[0m\u001b[0;34m)\u001b[0m \u001b[0;32min\u001b[0m \u001b[0marr\u001b[0m\u001b[0;34m}\u001b[0m\u001b[0;34m\u001b[0m\u001b[0;34m\u001b[0m\u001b[0m\n",
      "\u001b[0;32m<ipython-input-5-5cc29ff1328f>\u001b[0m in \u001b[0;36mscrape\u001b[0;34m(url)\u001b[0m\n\u001b[1;32m     13\u001b[0m     \u001b[0;32mfor\u001b[0m \u001b[0mentry\u001b[0m \u001b[0;32min\u001b[0m \u001b[0;34m[\u001b[0m\u001b[0mtr_elements\u001b[0m\u001b[0;34m[\u001b[0m\u001b[0mi\u001b[0m\u001b[0;34m]\u001b[0m \u001b[0;32mfor\u001b[0m \u001b[0mi\u001b[0m \u001b[0;32min\u001b[0m \u001b[0mindices\u001b[0m\u001b[0;34m]\u001b[0m\u001b[0;34m:\u001b[0m\u001b[0;34m\u001b[0m\u001b[0;34m\u001b[0m\u001b[0m\n\u001b[1;32m     14\u001b[0m         \u001b[0;32mfor\u001b[0m \u001b[0mj\u001b[0m\u001b[0;34m,\u001b[0m\u001b[0mvalue\u001b[0m \u001b[0;32min\u001b[0m \u001b[0menumerate\u001b[0m\u001b[0;34m(\u001b[0m\u001b[0mentry\u001b[0m\u001b[0;34m)\u001b[0m\u001b[0;34m:\u001b[0m\u001b[0;34m\u001b[0m\u001b[0;34m\u001b[0m\u001b[0m\n\u001b[0;32m---> 15\u001b[0;31m             \u001b[0marr\u001b[0m\u001b[0;34m[\u001b[0m\u001b[0mj\u001b[0m\u001b[0;34m]\u001b[0m\u001b[0;34m[\u001b[0m\u001b[0;36m1\u001b[0m\u001b[0;34m]\u001b[0m\u001b[0;34m.\u001b[0m\u001b[0mappend\u001b[0m\u001b[0;34m(\u001b[0m\u001b[0mstr\u001b[0m\u001b[0;34m(\u001b[0m\u001b[0mvalue\u001b[0m\u001b[0;34m.\u001b[0m\u001b[0mtext_content\u001b[0m\u001b[0;34m(\u001b[0m\u001b[0;34m)\u001b[0m\u001b[0;34m)\u001b[0m\u001b[0;34m)\u001b[0m\u001b[0;34m\u001b[0m\u001b[0;34m\u001b[0m\u001b[0m\n\u001b[0m\u001b[1;32m     16\u001b[0m urls = [\"https://lol.gamepedia.com/Data:LEC/2019_Season/Summer_Season\",\n\u001b[1;32m     17\u001b[0m     \u001b[0;34m\"https://lol.gamepedia.com/Data:LEC/2019_Season/Summer_Season/2\"\u001b[0m\u001b[0;34m,\u001b[0m\u001b[0;34m\u001b[0m\u001b[0;34m\u001b[0m\u001b[0m\n",
      "\u001b[0;31mIndexError\u001b[0m: list index out of range"
     ]
    }
   ],
   "source": [
    "arr = []\n",
    "def scrape(url):\n",
    "    text = requests.get(url).text\n",
    "    doc = lh.fromstring(text)\n",
    "    tr_elements = doc.xpath('//tr')\n",
    "    if(not(arr)):\n",
    "        heads = tr_elements[1]\n",
    "        for i,name in enumerate(heads):\n",
    "            arr.append((name.text_content(),[]))\n",
    "    l = list(range(2,len(tr_elements)))\n",
    "    indices = [i for i in l if i not in [12,13,24,25,36,37,48,49]]\n",
    "\n",
    "    for entry in [tr_elements[i] for i in indices]:\n",
    "        for j,value in enumerate(entry):\n",
    "            arr[j][1].append(str(value.text_content()))\n",
    "urls = [\"https://lol.gamepedia.com/Data:LEC/2019_Season/Summer_Season\",\n",
    "    \"https://lol.gamepedia.com/Data:LEC/2019_Season/Summer_Season/2\",\n",
    "    \"https://lol.gamepedia.com/Data:LEC/2019_Season/Spring_Season\",\n",
    "    \"https://lol.gamepedia.com/Data:LEC/2019_Season/Spring_Season/2\"]\n",
    "\n",
    "for url in urls:\n",
    "    scrape(url)\n",
    "    \n",
    "dict2 = {head:column for (head,column) in arr}\n",
    "df = pd.DataFrame(dict2)"
   ]
  },
  {
   "cell_type": "code",
   "execution_count": null,
   "metadata": {},
   "outputs": [],
   "source": [
    "arr = []\n",
    "\n",
    "def player_scrape(url):\n",
    "    text = requests.get(url).text\n",
    "    doc = lh.fromstring(text)\n",
    "    tr_elements = doc.xpath(\"//tr\")\n",
    "    if(not(arr)):\n",
    "        heads = tr_elements[0]\n",
    "        for i,name in enumerate(heads):\n",
    "            arr.append((name.text_content(),[]))\n",
    "    for entry in [tr_elements[i] for i in range(1,len(tr_elements))]:\n",
    "        for j, value in enumerate(entry):\n",
    "            if(j in [0,1,2]): \n",
    "                arr[j][1].append(str(value.text_content()))\n",
    "            else:\n",
    "                arr[j][1].append(float(value.text_content().replace(\"%\",\"\").replace(\",\",\"\")))\n",
    "\n",
    "urls = [\"https://oracleselixir.com/statistics/eu/lec-2019-spring-regular-season-player-statistics/\",\n",
    "\"https://oracleselixir.com/statistics/eu/lec-2019-spring-playoffs-player-statistics/\",\n",
    "\"https://oracleselixir.com/statistics/eu/lec-2019-summer-regular-season-player-statistics/\",\n",
    "\"https://oracleselixir.com/statistics/eu/lec-2019-summer-playoffs-player-statistics/\",\n",
    "\"https://oracleselixir.com/statistics/eu/lec-2019-regional-qualifiers-player-statistics/\"]\n",
    "\n",
    "split = [58*[\"Spring Regular\"],\n",
    "34*[\"Spring Playoffs\"], \n",
    "79*[\"Summer Regular\"],\n",
    "30*[\"Summer Playoffs\"],\n",
    "20*[\"Gauntlet\"]]\n",
    "\n",
    "split_col = [val for sublist in split for val in sublist]\n",
    "\n",
    "for url in urls:\n",
    "    player_scrape(url)\n",
    "\n",
    "dict2 = {head:column for (head,column) in arr}\n",
    "df2 = pd.DataFrame(dict2)\n",
    "df2['Split'] = split_col\n",
    "\n",
    "df2.to_csv(\"lec_playerdata.csv\")"
   ]
  },
  {
   "cell_type": "code",
   "execution_count": null,
   "metadata": {},
   "outputs": [],
   "source": [
    "arr = []\n",
    "\n",
    "def scrape_champions(url):\n",
    "    text = requests.get(url).text\n",
    "    doc = lh.fromstring(text)\n",
    "    tr_elements = doc.xpath(\"//tr\")\n",
    "\n",
    "    if(not(arr)):\n",
    "        for i,ind in enumerate(tr_elements[45]):\n",
    "            content = ind.text_content()\n",
    "            if(\">\" in content or \"-\" in content or \"<\" in content):\n",
    "                arr.append((\"%s %s\" % (content,\"games\"),[]))\n",
    "                arr.append((\"%s %s\" % (content,\"winrate\"),[]))\n",
    "                arr.append((\"%s %s\" % (content,\"win percentage\"),[]))\n",
    "            else:\n",
    "                arr.append((\"%s %d\" % (content,i),[]))\n",
    "\n",
    "    for entry in [tr_elements[i] for i in range(46,len(tr_elements)-1)]:\n",
    "        for j,value in enumerate(entry):\n",
    "            cont = value.text_content()\n",
    "            if(\"-\" in cont or j == 1):\n",
    "               arr[j][1].append(cont)\n",
    "            else:\n",
    "                cont = int(cont.replace(\"%\",\"\"))\n",
    "                arr[j][1].append(cont)\n",
    "\n",
    "urls = [\"https://liquipedia.net/leagueoflegends/LEC/2019/Spring/Statistics\",\"https://liquipedia.net/leagueoflegends/LEC/2019/Summer/Statistics\"]\n",
    "\n",
    "\n",
    "for url in urls:\n",
    "    scrape_champions(url)\n",
    "\n",
    "dict3 = {head:column for (head,column) in arr}\n",
    "df3 = pd.DataFrame(dict3)\n",
    "\n",
    "split = [95*[\"Spring\"],99*[\"Summer\"]]\n",
    "split_col = [val for sublist in split for val in sublist]\n",
    "df3['Split'] = split_col\n",
    "df3= df3.drop(columns=[\"Played By 14\",\"Played With 15\",\"Played Vs. 16\"])\n",
    "\n",
    "df3.to_csv(\"lec_championdata.csv\")"
   ]
  },
  {
   "cell_type": "code",
   "execution_count": null,
   "metadata": {},
   "outputs": [],
   "source": [
    "def swap(x):\n",
    "    temp = x['Team1']\n",
    "    x['Team1'] = x['Team2']\n",
    "    x['Team2'] = temp\n",
    "    x['Result'] = (False if (x['Result']) else True)\n",
    "    return(x)\n",
    "\n",
    "def swaps(x):\n",
    "    df.loc[x] = swap(df.loc[x])\n",
    "\n",
    "swaps_list = [90,100,139,140,141,142,143,146,148,150,151,152,155,156,157,158,159,160,161,163,167,169,170,171,172,173,174]\n",
    "for i in swaps_list:\n",
    "    swaps(i)"
   ]
  },
  {
   "cell_type": "code",
   "execution_count": null,
   "metadata": {},
   "outputs": [],
   "source": [
    "df = df.drop(columns=['R','Grp','Pts','TBPts','PST','BO','CET','KST','Int','HL','Recap', 'W','Reddit','FF','MH','PB','S','V','P'])\n",
    "\n",
    "sel = [switcher[i] for i in df['Team1']]\n",
    "df['Sel'] = sel\n",
    "\n",
    "choice = [1 if(df['Sel'][i] == df['Blue'][i]) else 0 for i in range(len(df))]\n",
    "df['Choice'] = choice\n",
    "\n",
    "day = [df['UTC'][i][0:3] for i in range(len(df))]\n",
    "df['Day'] = day\n",
    "\n",
    "utc2 = [df['UTC'][i][4:14] for i in range(len(df))]\n",
    "df['UTC'] = utc2\n",
    "\n",
    "new_time = [df['UTC'][1][12:] for i in range(len(df))]\n",
    "df['Time'] = new_time\n",
    "\n",
    "df['Result'] = df['Result'] == '1 - 0'\n",
    "\n",
    "df.to_csv(\"lec_matchdata.csv\")"
   ]
  },
  {
   "cell_type": "markdown",
   "metadata": {},
   "source": [
    "# The League of Legends European Championship (LEC)\n",
    "\n",
    "***\n",
    "## Introduction\n",
    "\n",
    "2019 was a landmark year for the League of Legends Europeans Championship; Franchising was introduced which brought a multitude of new and old teams into the league. G2 Esports took home Europe's first major trophy since before the arrival of Chinese/Korean teams to the scene. Three fully-European teams were sent to the World Championship and all three made it out of groups for the first time in the league's history. G2 Esports were well beaten at the final hurdle, but the year was nonetheless a raging success. In this notebook I aim to gather data on the domestic league and show some of the interesting aspects of the year."
   ]
  },
  {
   "cell_type": "markdown",
   "metadata": {},
   "source": [
    "***\n",
    "## League Format\n",
    "\n",
    "The year is split into two 'splits', Spring & Summer, with a major international tournament after both. Each split starts with the *Regular Season*, a double best-of-1 round robin, meaning each team plays all other teams twice. The top 6 teams in the regular season go through to the *Playoffs*, where teams match up in best-of-5 series in a hybrid single- & double-elimination format. \n",
    "\n",
    "The winner of the Spring split plays against the rest of the international league winners at the *Mid-Season Invitational* while the winner of Summer goes to the *World Championship*, the most prestigious tournament in the entire scene. Each team gains *circuit* points based on their playoff placings throughout the year and the team with the most points accompanies the Summer split winner to worlds. The 3 next best teams play in the *Gauntlet* for the final spot at Worlds"
   ]
  },
  {
   "cell_type": "markdown",
   "metadata": {},
   "source": [
    "***\n",
    "## Side Selection\n",
    "\n",
    "Every League game has two sides, 'Red' and 'Blue' (left and right sides of the map). Blue side gets to pick the first champion but red gets to pick the last and both sides have different positional advantages due to the layout of the map. Each team chooses their side in half of their games, while the opponent chooses in the other half"
   ]
  },
  {
   "cell_type": "code",
   "execution_count": null,
   "metadata": {
    "scrolled": false
   },
   "outputs": [],
   "source": [
    "sums = df[['Sel','Choice']].groupby('Sel').sum()\n",
    "totals = df['Sel'].value_counts().sort_index()\n",
    "winrate_totals=[sums.iloc[i]/totals[i] for i in range(10)]\n",
    "bardata = pd.concat(winrate_totals,axis = 1,keys = [s.name for s in winrate_totals])\n",
    "\n",
    "px.bar(bardata, x=bardata.columns, y=[bardata.values[0][i] for i in range(10)])\n",
    "\n",
    "fig = go.Figure(data=[\n",
    "    go.Bar(name='Blue Side', \n",
    "           x=bardata.columns, \n",
    "           y=[bardata.values[0][i] for i in range(10)],\n",
    "           marker_color = \"#1d0efd\",\n",
    "           textposition=\"auto\",\n",
    "           text=[\"%s%%\" % round(100*bardata.values[0][i],1) for i in range(10)]),\n",
    "\n",
    "    \n",
    "    go.Bar(name='Red Side', \n",
    "           x=bardata.columns, \n",
    "           y=[1-bardata.values[0][i] for i in range(10)],\n",
    "           marker_color = \"#fd0e35\")\n",
    "])\n",
    "fig.update_yaxes(showticklabels=False)\n",
    "fig.update_layout(\n",
    "    barmode='stack',\n",
    "    title = \"Side Selection for Each Team: Regular Season\",\n",
    "    font=dict(\n",
    "        family=\"Calibri, monospace\",\n",
    "        size=16,\n",
    "        color=\"#7f7f7f\")\n",
    "                 )\n",
    "fig.show()"
   ]
  },
  {
   "cell_type": "markdown",
   "metadata": {},
   "source": [
    "As we can see, most teams strongly prefer to pick blue side. Team Vitality and, to a lesser extent, Splyce go againt that trend. Interestingly, the two top teams of the year (G2 Esports and Fnatic) both tend strongly towards picking blue side."
   ]
  },
  {
   "cell_type": "markdown",
   "metadata": {},
   "source": [
    "***\n",
    "## Casters\n",
    "\n",
    "One of the most important aspects of the broadcast is the casters. Most games will pair a 'Play-by-play' commentator with a 'Colour' commentator (Commentary v Analysis). Every now and again, however, we will get a tri-cast with two colour casters to provide more analysis during the game. The treemap below shows the different combinations we had during the regular season. (Casters go by pseudonyms, similar to the players)"
   ]
  },
  {
   "cell_type": "code",
   "execution_count": null,
   "metadata": {},
   "outputs": [],
   "source": [
    "def scores(team):\n",
    "    for i in (df[df['Team2'] == team].index):\n",
    "        swaps(i)\n",
    "    team_results = df[df['Team1'] == team].append(df[df['Team2'] == team]).sort_values('UTC')\n",
    "    score = team_results.groupby('Team1').cumsum().set_index(team_results['UTC'])\n",
    "    return(score)"
   ]
  },
  {
   "cell_type": "code",
   "execution_count": null,
   "metadata": {
    "scrolled": true
   },
   "outputs": [],
   "source": [
    "casters=df[['Team1','Team2','PBP','Color']]\n",
    "casters['Combo'] = casters['PBP'] + \" + \" + casters['Color']\n",
    "caster_combos = casters.groupby('Combo').count()\n",
    "test = casters.sort_values('Combo')['Combo'].drop_duplicates()\n",
    "parents = [\"\",\"\"]\n",
    "for i in test:\n",
    "    if(\",\" in i):\n",
    "        parents.append(\"Tri Cast\")\n",
    "    else:\n",
    "        parents.append(\"Duo Cast\")\n",
    "labels_src = casters.sort_values(\"Combo\")['Combo'].drop_duplicates()\n",
    "labels = [\"Tri Cast\",\"Duo Cast\"]\n",
    "for label in labels_src:\n",
    "    labels.append(label)\n",
    "\n",
    "values = [0,0]\n",
    "for value in caster_combos['Team1']:\n",
    "    values.append(value)\n",
    "    \n",
    "fig = go.Figure(go.Treemap(labels=labels,\n",
    "                           parents = parents,\n",
    "                           values = values))\n",
    "fig.update_layout(title=\"Caster Combo Distribution: Regular Season\")\n",
    "fig.show()"
   ]
  },
  {
   "cell_type": "markdown",
   "metadata": {},
   "source": [
    "Interestingly, there doesn't seem to be a fully even distribution in terms of how many times each caster casts a certain team. Clicking on each caster's name here will show how many games they casted per team. For example, Quickshot only casted games involving Origen 4 times. Note that hovering over their names will show the total amount of regular season games they casted multiplied by 2, so halve the given number to get their personal total of games"
   ]
  },
  {
   "cell_type": "code",
   "execution_count": null,
   "metadata": {
    "scrolled": true
   },
   "outputs": [],
   "source": [
    "def casters_treemap(caster_type):\n",
    "    pbp = pd.DataFrame([i for i in casters[caster_type].drop_duplicates() if ',' not in i],columns=[caster_type])\n",
    "    pbp = pbp.rename(index=pbp[caster_type])\n",
    "    pbp = pbp.drop(caster_type,axis=1)\n",
    "\n",
    "\n",
    "    for team in teams:\n",
    "        pbp[team] = 0\n",
    "    for i in range(len(casters)):\n",
    "        ind = casters.iloc[i]\n",
    "        pbp_index = ind[caster_type].replace(\" \",\"\").split(\",\")\n",
    "        for caster in pbp_index:    \n",
    "            pbp.loc[caster,ind['Team1']] += 1\n",
    "            pbp.loc[caster,ind['Team2']] += 1\n",
    "\n",
    "    biglist = [len(pbp)*['o'],[10*[i] for i in list(pbp.index)]]\n",
    "    parents = [val for sublist in biglist for val in sublist]\n",
    "    parents = [val for sublist in parents for val in sublist]\n",
    "    for i in range(len(pbp)):\n",
    "        parents[i] = \"\"\n",
    "\n",
    "    values = pbp.sum(axis=1)\n",
    "    for i in list(pbp.index):\n",
    "        values = values.append(pbp.loc[i])\n",
    "\n",
    "    fig = go.Figure()\n",
    "\n",
    "    fig = fig.add_trace(go.Treemap(\n",
    "        labels = pbp.index.append(len(pbp)*[pbp.columns]),\n",
    "        parents = parents,\n",
    "        values = values,\n",
    "        branchvalues= 'total'\n",
    "    ))\n",
    "    fig.update_layout(title='%s Team Distribution (Regular Season)' % caster_type)\n",
    "    fig.show()\n",
    "    \n",
    "for i in ['PBP','Color']:\n",
    "    casters_treemap(i)"
   ]
  },
  {
   "cell_type": "code",
   "execution_count": null,
   "metadata": {},
   "outputs": [],
   "source": [
    "test = casters['Combo'].drop_duplicates()\n",
    "combo_num = [\"\",\"\"]\n",
    "for i in test:\n",
    "    if(\",\" in i):\n",
    "        combo_num.append(\"Tri Cast\")\n",
    "    else:\n",
    "        combo_num.append(\"Duo Cast\")"
   ]
  },
  {
   "cell_type": "code",
   "execution_count": null,
   "metadata": {},
   "outputs": [],
   "source": [
    "df = df.drop([90,181])"
   ]
  },
  {
   "cell_type": "markdown",
   "metadata": {},
   "source": [
    "***\n",
    "## MVPs\n",
    "\n",
    "Each regular season game gets an MVP (Most Valuable Player) who is voted in by the fans."
   ]
  },
  {
   "cell_type": "code",
   "execution_count": null,
   "metadata": {},
   "outputs": [],
   "source": [
    "mvps = df.groupby('MVP').count().sort_values('Team1',ascending = False)\n",
    "\n",
    "fig = go.Figure()\n",
    "fig.add_trace(go.Bar(y=mvps.index[range(5)][::-1], \n",
    "                     x=mvps['Team1'].head()[::-1],\n",
    "                     orientation='h',\n",
    "                    marker_color = \"purple\"))\n",
    "fig.update_layout(title_text = 'Total MVP awards')\n",
    "fig.show()"
   ]
  },
  {
   "cell_type": "markdown",
   "metadata": {},
   "source": [
    "***\n",
    "## Regular Season Wins\n",
    "\n",
    "Next I wanted to see how consistent the teams were in the round robins. "
   ]
  },
  {
   "cell_type": "code",
   "execution_count": null,
   "metadata": {
    "scrolled": true
   },
   "outputs": [],
   "source": [
    "test = pd.DataFrame(columns = teams,index= df['UTC'])\n",
    "for x in teams:\n",
    "    test[x] = (scores(x))\n",
    "test = test.sort_values('UTC').drop_duplicates()\n",
    "\n",
    "\n",
    "fig = go.Figure(layout=go.Layout(\n",
    "        title=go.layout.Title(text=\"Cumulative Wins: Regular Season Games\")\n",
    "    ))\n",
    "def plotcumwins(x):\n",
    "    fig.add_trace(go.Scatter(x=list(range(1,len(test[x])+1)),\n",
    "                               y=test[x],\n",
    "                               name = x,\n",
    "                               line = dict(color=teams[x])))\n",
    "for i in teams:\n",
    "    plotcumwins(i)\n",
    "fig.add_shape(go.layout.Shape(type=\"line\",x0=18,y0=0,x1=18,y1=30,line=dict(\n",
    "                color=\"RoyalBlue\",\n",
    "                width=1\n",
    "            )))\n",
    "fig.update_xaxes(title_text='Gameday',range=[0,36])\n",
    "fig.update_yaxes(title_text='Total Number of Wins')\n",
    "fig"
   ]
  },
  {
   "cell_type": "markdown",
   "metadata": {},
   "source": [
    "Some interesting things to note from this include G2's sheer dominance (Which was mirrored in their playoff dominance) and the tussle that occured between Fnatic, Splyce, Schalke and OG throughout the year for the 2nd spot. Rogue's absymal spring season meant that even a Summer split resurgence and an eventual 4th place finish couldn't save them from being 10th place overall"
   ]
  },
  {
   "cell_type": "markdown",
   "metadata": {},
   "source": [
    "***\n",
    "## Player Nationalities\n",
    "\n",
    "One thing that LEC fans are generally very proud of is the local talent that Europe produces. All 15 players sent to the World Championship this year were European, while 14/15 of the players sent last year were EU players. This season boasted a wide range of nationalities, with 22 European countries represented along with Korea."
   ]
  },
  {
   "cell_type": "code",
   "execution_count": null,
   "metadata": {},
   "outputs": [],
   "source": [
    "tops = df2[df2['Pos'] == \"TOP\"]\n",
    "jgls = df2[df2['Pos'] == \"Jungle\"]\n",
    "mids = df2[df2['Pos'] == \"Middle\"]\n",
    "adcs = df2[df2['Pos'] == \"ADC\"]\n",
    "sups = df2[df2['Pos'] == \"Support\"]"
   ]
  },
  {
   "cell_type": "code",
   "execution_count": null,
   "metadata": {},
   "outputs": [],
   "source": [
    "Image(filename='nationalities.png')"
   ]
  },
  {
   "cell_type": "markdown",
   "metadata": {},
   "source": [
    "As we can see, the Nordic and East region is responsible for a large amount of the players. That said, most of the Western countries and a large amount of Eastern countries have representation. It's worth noting that Korea clocks in at 10 players, higher than any single European country."
   ]
  },
  {
   "cell_type": "markdown",
   "metadata": {},
   "source": [
    "***\n",
    "## Player Experience\n",
    "\n",
    "Another thing that the league prides itself on is the integration of rookie players, players who haven't played professionally before. The European League scene has a thriving set of second division leagues and the majority of orgs are comfortable giving chances to unproven talent"
   ]
  },
  {
   "cell_type": "code",
   "execution_count": null,
   "metadata": {
    "scrolled": true
   },
   "outputs": [],
   "source": [
    "years = [0,2,1,2,1,4,1,2,0,1,2,3,4,0,6,2,2,0,4,4,1,5,0,1,5,8,3,4,3,3,3,6,3,0,0,1,6,4,0,1,3,3,2,4,7,0,0,3,8,0,1,5,4,2,4,3,2,0,0,2,4,0,0,3,0,0,0,4,1,0,4,5,0]\n",
    "x = Counter(years)\n",
    "\n",
    "fig = go.Figure(go.Pie(labels=[\"%s yr\" % i for i in sorted(x.keys())],values=[x[i] for i in sorted(x.keys())],sort=False))\n",
    "fig.update_layout(title_text=\"Years since Major Region Debut\")\n",
    "fig.show()"
   ]
  },
  {
   "cell_type": "markdown",
   "metadata": {},
   "source": [
    "As we can see, fewer than half of the league's players in 2019 had their debut before 2017. Additionally, over a quarter of all players had no experience in major regions before featuring this year. With 10 new rookies already announced for the 2020 season, the future is looking up for the LEC."
   ]
  },
  {
   "cell_type": "code",
   "execution_count": null,
   "metadata": {},
   "outputs": [],
   "source": [
    "x = df2[['Player','Split']].groupby('Split').count().iloc[[2,4]]\n",
    "fig = go.Figure(go.Bar(x = x.index, \n",
    "                       y = list(x['Player']),\n",
    "                      marker_color = \"#6baed6\"))\n",
    "\n",
    "fig.update_layout(title_text = \"Number of Players per Split\")\n",
    "fig.update_yaxes(title_text=\"Number of Players\")\n",
    "\n",
    "fig.show()"
   ]
  },
  {
   "cell_type": "markdown",
   "metadata": {},
   "source": [
    "***\n",
    "## AD Carries\n",
    "\n",
    "ADCs tend to be fed the most amount of gold throughout the game and are responsible for a large chunk of the teamfight damage. I wanted to explore how efficiently ADCs used the gold share they were given. The graph below shows how much of their team's damage they did compared to how much of the team's gold they got. Ideally you want your adc to deal as much damage as possible."
   ]
  },
  {
   "cell_type": "code",
   "execution_count": null,
   "metadata": {},
   "outputs": [],
   "source": [
    "years = [0,2,1,2,1,4,1,2,0,1,2,3,4,0,6,2,2,0,4,4,1,5,0,1,5,8,3,4,3,3,3,6,3,0,0,1,6,4,0,1,3,3,2,4,7,0,0,3,8,0,1,5,4,2,4,3,2,0,0,2,]"
   ]
  },
  {
   "cell_type": "code",
   "execution_count": null,
   "metadata": {
    "scrolled": true
   },
   "outputs": [],
   "source": [
    "fig = px.scatter(x=adcs['Gold%'],\n",
    "                 y=adcs['DMG%'],\n",
    "                 color=adcs['Split'],\n",
    "                 hover_name=adcs['Player'])\n",
    "fig.update_xaxes(title_text=\"Gold%\",range=[35,15])\n",
    "fig.update_yaxes(title_text=\"Damage%\")\n",
    "fig.update_layout(title_text=\"ADC Gold Efficiency\")\n",
    "fig.show()"
   ]
  },
  {
   "cell_type": "markdown",
   "metadata": {},
   "source": [
    "***\n",
    "## Midlaners\n",
    "\n",
    "Midlaners are arguably the most important role in the modern game. They control the central lane of the map, meaning the game tends to flow through them. Having pressure in the midlane allows your team more freedom of movement while midlaners roaming can dictate a large part of the early game. I wanted to see how dominant certain midlaners are in the laning phase by looking at their average XP (experience) and CS (creep score, neutral minions killed) differential over their counterpart. A player who plays a strong lane or low roaming style will generally have high differentials"
   ]
  },
  {
   "cell_type": "code",
   "execution_count": null,
   "metadata": {},
   "outputs": [],
   "source": [
    "fig = px.scatter(y=mids['GD10'],\n",
    "                 x = mids['XPD10'],\n",
    "                hover_name = mids['Player'],\n",
    "                color = mids['Split'])\n",
    "\n",
    "fig.update_xaxes(title_text=\"XP Difference at 10\")\n",
    "fig.update_yaxes(title_text=\"Gold Difference at 10\")\n",
    "fig.update_layout(title_text=\" Midlaner Laning Dominance\")\n",
    "fig.show()"
   ]
  },
  {
   "cell_type": "markdown",
   "metadata": {},
   "source": [
    "***\n",
    "## Supports\n",
    "\n",
    "Supports are the utility members of the team. They take no gold and are usually responsible for engaging/vision control. Vision has been a key part of the meta since the game began and supports have always been at the heart of it. Vision gives information, information wins games. Here we look at how much vision control supports have by looking at their average number of wards placed every minute versus the average number of enemy wards destroyed every minute. "
   ]
  },
  {
   "cell_type": "code",
   "execution_count": null,
   "metadata": {
    "scrolled": true
   },
   "outputs": [],
   "source": [
    "fig = px.scatter(x=sups['WPM'],\n",
    "                 y=sups['WCPM'],\n",
    "                 color=sups['Split'],\n",
    "                 hover_name=sups['Player'])\n",
    "fig.update_xaxes(title_text=\"Wards Placed Per Minute\")\n",
    "fig.update_yaxes(title_text=\"Wards Cleared Per Minute\")\n",
    "fig.update_layout(title_text=\"Support Vision Control\")\n",
    "fig.show()"
   ]
  },
  {
   "cell_type": "code",
   "execution_count": null,
   "metadata": {},
   "outputs": [],
   "source": [
    "time_splits = df3.columns[[14,17,20,23,26,29]]\n",
    "times = pd.DataFrame(index = time_splits, columns = [\"Spring\",\"Summer\"])\n",
    "grouped_df3 = df3.groupby('Split').sum()\n",
    "for i in time_splits:\n",
    "    times['Spring'][i] = (grouped_df3[i][0] / 10) / 107\n",
    "    times['Summer'][i] = (grouped_df3[i][1] / 10) / 114\n",
    "\n",
    "times.columns\n",
    "time_splits = [i.replace(\"games\",\"minutes\") for i in time_splits] "
   ]
  },
  {
   "cell_type": "markdown",
   "metadata": {},
   "source": [
    "***\n",
    "## Game Time\n",
    "\n",
    "This year has been described as having one of the fastest metas in history. Teams were constantly winning games before 30 minutes, a far cry from the snoozefest of 5 years ago"
   ]
  },
  {
   "cell_type": "code",
   "execution_count": null,
   "metadata": {},
   "outputs": [],
   "source": [
    "fig = go.Figure(data=[\n",
    "    go.Bar(name='Spring', x=time_splits, y=times['Spring']),\n",
    "    go.Bar(name='Summer', x=time_splits, y=times['Summer'])\n",
    "])\n",
    "fig.update_layout(title_text = \"Game Length: Spring v Summer Split\")\n",
    "fig.update_yaxes(title_text = \"Percentage of Games\")\n",
    "fig.show()"
   ]
  },
  {
   "cell_type": "markdown",
   "metadata": {},
   "source": [
    "As we can see, the majority of games were finished before the 35 minute mark, while there were fewer games longer than 40 minutes in the Summer split. It seems that teams improved heavily on quickly closing out games in the second half of the year"
   ]
  },
  {
   "cell_type": "code",
   "execution_count": null,
   "metadata": {},
   "outputs": [],
   "source": [
    "champs = df3[['Champion 1','∑ 2','W 3','L 4']].groupby('Champion 1').sum().sort_values(\"∑ 2\",ascending = False)"
   ]
  },
  {
   "cell_type": "code",
   "execution_count": null,
   "metadata": {},
   "outputs": [],
   "source": [
    "x = df3[['W 3','Split']].groupby('Split').count()\n",
    "\n",
    "fig = go.Figure(go.Bar(x = x.index, \n",
    "                       y = list(x['W 3']),\n",
    "                      marker_color = \"#f768a1\"))\n",
    "\n",
    "fig.update_layout(title_text = \"Number of Unique Champions per Split\")\n",
    "fig.update_yaxes(title_text=\"Number of Champions\")\n",
    "\n",
    "fig.show()"
   ]
  },
  {
   "cell_type": "markdown",
   "metadata": {},
   "source": [
    "***\n",
    "## Champions\n",
    "\n",
    "Champions are one of the most important part of the game, each player gets to choose one character with unique abilities to play the game as. Here we explore some of the basic graphs about these champions"
   ]
  },
  {
   "cell_type": "code",
   "execution_count": null,
   "metadata": {
    "scrolled": false
   },
   "outputs": [],
   "source": [
    "fig = go.Figure(data=[\n",
    "    go.Bar(name='Wins', \n",
    "           x=champs.index[range(10)], \n",
    "           y=champs['W 3'],\n",
    "           marker_color = \"#1c9099\",\n",
    "           textposition=\"auto\"),\n",
    "\n",
    "    \n",
    "    go.Bar(name='Losses', \n",
    "           x=champs.index[range(10)], \n",
    "           y=champs['L 4'],\n",
    "           marker_color = \"#a6bddb\",\n",
    "           textposition = \"auto\",\n",
    "            text = champs['∑ 2']),\n",
    "          \n",
    "])\n",
    "fig.update_yaxes(title_text = \"Number of Games\")\n",
    "fig.update_layout(\n",
    "    barmode='stack',\n",
    "    title = \"Most Picked Champions: Spring & Summer Split\",\n",
    "    font=dict(\n",
    "        family=\"Calibri, monospace\",\n",
    "        size=16,\n",
    "        color=\"#7f7f7f\")\n",
    "                 )\n",
    "fig.show()"
   ]
  },
  {
   "cell_type": "code",
   "execution_count": null,
   "metadata": {},
   "outputs": [],
   "source": [
    "champs['WR'] = champs['W 3'] / champs['∑ 2']\n",
    "champs = champs[champs['∑ 2'] > 10].sort_values('WR',ascending = False)\n",
    "\n",
    "fig = go.Figure(data=[\n",
    "    go.Bar(name='Winrate', \n",
    "           x=champs.index[range(10)], \n",
    "           y=champs['WR'],\n",
    "           marker_color = \"#fec44f\",\n",
    "           textposition=\"auto\",\n",
    "          text=[\"%s%%\" % round(100*champs['WR'].iloc[i],1) for i in range(10)]),\n",
    "])\n",
    "fig.update_yaxes(title_text = \"Win Percentage\")\n",
    "fig.update_layout(\n",
    "    barmode='stack',\n",
    "    title = \"Highest Winrate Champions: Spring & Summer Split (Min 10 Games)\",\n",
    "    font=dict(\n",
    "        family=\"Calibri, monospace\",\n",
    "        size=16,\n",
    "        color=\"#7f7f7f\")\n",
    "                 )\n",
    "fig.show()"
   ]
  },
  {
   "cell_type": "code",
   "execution_count": null,
   "metadata": {
    "scrolled": true
   },
   "outputs": [],
   "source": [
    "champs = champs[champs['∑ 2'] > 10].sort_values('WR')\n",
    "fig = go.Figure(data=[\n",
    "    go.Bar(name='Winrate', \n",
    "           x=champs.index[range(10)], \n",
    "           y=champs['WR'],\n",
    "           marker_color = \"#78c679\",\n",
    "           textposition=\"auto\",\n",
    "          text=[\"%s%%\" % round(100*champs['WR'].iloc[i],1) for i in range(10)]),\n",
    "])\n",
    "fig.update_yaxes(title_text = \"Win Percentage\")\n",
    "fig.update_layout(\n",
    "    barmode='stack',\n",
    "    title = \"Lowest Winrate Champions: Spring & Summer Split (Min 10 Games)\",\n",
    "    font=dict(\n",
    "        family=\"Calibri, monospace\",\n",
    "        size=16,\n",
    "        color=\"#7f7f7f\")\n",
    "                 )\n",
    "fig.show()"
   ]
  },
  {
   "cell_type": "markdown",
   "metadata": {},
   "source": [
    "Finally, the most important stat"
   ]
  },
  {
   "cell_type": "code",
   "execution_count": null,
   "metadata": {},
   "outputs": [],
   "source": [
    "fig = go.Figure(go.Bar(x=[\"Fnatic\",\"Promisq\"],y=[0,2],marker_color=\"grey\"))\n",
    "fig.update_layout(title_text=\"Number of LEC Medals\")\n",
    "fig.show()"
   ]
  }
 ],
 "metadata": {
  "kernelspec": {
   "display_name": "Python 3",
   "language": "python",
   "name": "python3"
  }
 },
 "nbformat": 4,
 "nbformat_minor": 2
}
